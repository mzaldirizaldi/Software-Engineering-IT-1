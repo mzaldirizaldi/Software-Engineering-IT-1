{
  "nbformat": 4,
  "nbformat_minor": 0,
  "metadata": {
    "colab": {
      "name": "Muhammad Rizaldi, SE, IT-1.ipynb",
      "provenance": [],
      "collapsed_sections": []
    },
    "kernelspec": {
      "name": "python3",
      "display_name": "Python 3"
    },
    "language_info": {
      "name": "python"
    }
  },
  "cells": [
    {
      "cell_type": "code",
      "metadata": {
        "id": "XHMQYbZbN11S"
      },
      "source": [
        "#variable\n",
        "\n",
        "a = 2 # integer\n",
        "hewan = \"gajah\" # String\n",
        "b = 'A' # String\n",
        "c = True # Boolean\n",
        "d = False # Boolean\n",
        "e = 2.0 # Float\n",
        "f = [] # List / Array\n",
        "g = {} # Dictionary\n",
        "h = () # Tuple"
      ],
      "execution_count": null,
      "outputs": []
    },
    {
      "cell_type": "code",
      "metadata": {
        "id": "r9YKu3URSmkg"
      },
      "source": [
        "print(b)\n",
        "print(a)\n",
        "print(\"Nama hewannya adalah: \" + hewan)\n",
        "print(\"Nama hewannya adalah: {}\".format(a))\n",
        "print(\"Nama: {}, Umur: {}\".format(\"Zaldi\", 20))"
      ],
      "execution_count": null,
      "outputs": []
    },
    {
      "cell_type": "code",
      "metadata": {
        "id": "6_5mDnZzUI6k",
        "colab": {
          "base_uri": "https://localhost:8080/"
        },
        "outputId": "45d590e0-d63d-4de9-f949-947c8344387d"
      },
      "source": [
        "Student_Name = [\"Bambang\", \"Sudirman\", \"Aruf\", \"Udin\", \"Tukiyem\"]\n",
        "print(Student_Name[0])\n",
        "print(Student_Name[1])\n",
        "print(Student_Name[2])\n",
        "print(Student_Name[-2:])\n",
        "Student_Name.append(\"Sukirman\")\n",
        "print(Student_Name)"
      ],
      "execution_count": 1,
      "outputs": [
        {
          "output_type": "stream",
          "name": "stdout",
          "text": [
            "Bambang\n",
            "Sudirman\n",
            "Aruf\n",
            "['Udin', 'Tukiyem']\n",
            "['Bambang', 'Sudirman', 'Aruf', 'Udin', 'Tukiyem', 'Sukirman']\n"
          ]
        }
      ]
    },
    {
      "cell_type": "code",
      "metadata": {
        "colab": {
          "base_uri": "https://localhost:8080/"
        },
        "id": "KkHxj78tWJIZ",
        "outputId": "d62fe22e-159e-48d7-c47f-3d6c6034a754"
      },
      "source": [
        "List = [\"A\", \"B\", \"C\"]\n",
        "print(\"ini huruf {}\".format(List[0]))"
      ],
      "execution_count": null,
      "outputs": [
        {
          "output_type": "stream",
          "name": "stdout",
          "text": [
            "ini huruf A\n"
          ]
        }
      ]
    },
    {
      "cell_type": "code",
      "metadata": {
        "id": "ViPbRwDRcBOA"
      },
      "source": [
        ""
      ],
      "execution_count": null,
      "outputs": []
    }
  ]
}